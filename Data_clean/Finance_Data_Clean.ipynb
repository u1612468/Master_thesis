{
 "cells": [
  {
   "cell_type": "code",
   "execution_count": 37,
   "metadata": {},
   "outputs": [],
   "source": [
    "import pandas as pd\n",
    "import numpy as np"
   ]
  },
  {
   "cell_type": "code",
   "execution_count": 38,
   "metadata": {},
   "outputs": [
    {
     "name": "stdout",
     "output_type": "stream",
     "text": [
      "         name salary company address experience eduBack companyType   \n",
      "count   74983  74983   74983   74983      74983   74983       71838  \\\n",
      "unique  40154    647   13039      71          7      13          16   \n",
      "top      客户经理  1万-2万  上海链家地产   北京-朝阳         不限      专科          民营   \n",
      "freq     1601   5664    1097    7828      33180   26565       29788   \n",
      "\n",
      "             scale    info  \n",
      "count        74154   74983  \n",
      "unique           7   45375  \n",
      "top     1000-9999人  ['全职']  \n",
      "freq         19303     562  \n",
      "<class 'pandas.core.frame.DataFrame'>\n",
      "Index: 74983 entries, 0 to 87115\n",
      "Data columns (total 9 columns):\n",
      " #   Column       Non-Null Count  Dtype \n",
      "---  ------       --------------  ----- \n",
      " 0   name         74983 non-null  object\n",
      " 1   salary       74983 non-null  object\n",
      " 2   company      74983 non-null  object\n",
      " 3   address      74983 non-null  object\n",
      " 4   experience   74983 non-null  object\n",
      " 5   eduBack      74983 non-null  object\n",
      " 6   companyType  71838 non-null  object\n",
      " 7   scale        74154 non-null  object\n",
      " 8   info         74983 non-null  object\n",
      "dtypes: object(9)\n",
      "memory usage: 5.7+ MB\n",
      "None\n"
     ]
    }
   ],
   "source": [
    "# Read a CSV file and convert it to a data frame\n",
    "df = pd.read_csv('Finance_all.csv')\n",
    "\n",
    "# Find all rows that are exactly the same\n",
    "duplicated_rows = df.duplicated()\n",
    "\n",
    "# Remove all duplicated rows\n",
    "df = df.drop_duplicates()\n",
    "\n",
    "# Delete rows with empty name columns\n",
    "df = df.dropna(subset=['name'])\n",
    "\n",
    "# Show basic statistics for each column in the data box\n",
    "print(df.describe())\n",
    "print(df.info())"
   ]
  },
  {
   "cell_type": "code",
   "execution_count": 39,
   "metadata": {},
   "outputs": [],
   "source": [
    "# Define a function that determines the city name and city id based on the value in the address column\n",
    "def get_city_info(address):\n",
    "    city_id = None\n",
    "    city_name = None\n",
    "    if '北京' in address:\n",
    "        city_id = 530\n",
    "        city_name = '北京'\n",
    "    elif '上海' in address:\n",
    "        city_id = 538\n",
    "        city_name = '上海'\n",
    "    elif '广州' in address:\n",
    "        city_id = 763\n",
    "        city_name = '广州'\n",
    "    elif '深圳' in address:\n",
    "        city_id = 765\n",
    "        city_name = '深圳'\n",
    "    elif '杭州' in address:\n",
    "        city_id = 653\n",
    "        city_name = '杭州'\n",
    "    return pd.Series({'city_id': city_id, 'city_name': city_name})\n",
    "\n",
    "# Add city_name and city_id to the data frame using the apply() function and a lambda expression\n",
    "df[['city_id', 'city_name']] = df['address'].apply(lambda x: get_city_info(x))"
   ]
  },
  {
   "cell_type": "code",
   "execution_count": 40,
   "metadata": {},
   "outputs": [],
   "source": [
    "df = df.dropna(subset=['city_id'])\n",
    "df['city_id'] = df['city_id'].astype(int)"
   ]
  },
  {
   "cell_type": "code",
   "execution_count": 41,
   "metadata": {},
   "outputs": [],
   "source": [
    "# Combine similar education levels\n",
    "df['eduBack'] = df['eduBack'].replace(['EMBA', 'MBA/EMBA', '硕士'], '硕士')\n",
    "df['eduBack'] = df['eduBack'].replace(['大专','专科'], '大专')\n",
    "df['eduBack'] = df['eduBack'].replace(['中专/中技', '中技'], '中专')\n",
    "df['eduBack'] = df['eduBack'].replace(['高中','初中及以下'], '高中及以下')\n",
    "\n",
    "# Map education requirements to corresponding codes\n",
    "edu_map = {\n",
    "    '学历不限': 0,\n",
    "    '高中及以下':1,\n",
    "    '中专':2,\n",
    "    '大专':3,\n",
    "    '本科': 4,\n",
    "    '硕士': 5,\n",
    "    '博士': 6\n",
    "}\n",
    "\n",
    "df['eduBack_code'] = df['eduBack'].map(edu_map)"
   ]
  },
  {
   "cell_type": "code",
   "execution_count": 42,
   "metadata": {},
   "outputs": [],
   "source": [
    "edu_en = {\n",
    "    '学历不限': 'No Education Required',\n",
    "    '高中及以下':'High School and below',\n",
    "    '中专': 'Technical Secondary',\n",
    "    '大专': 'Junior College',\n",
    "    '本科': 'Bachelor',\n",
    "    '硕士': 'Master',\n",
    "    '博士': 'Doctor'\n",
    "}\n",
    "df['eduBack_en'] = df['eduBack'].map(edu_en)\n",
    "city_en = {530: 'Beijing', 538: 'Shanghai', 763: 'Guangzhou', 765: 'Shenzhen', 653: 'Hangzhou'}\n",
    "df['city_en'] = df['city_id'].map(city_en)"
   ]
  },
  {
   "cell_type": "code",
   "execution_count": 43,
   "metadata": {},
   "outputs": [
    {
     "name": "stdout",
     "output_type": "stream",
     "text": [
      "              eduBack_en  Count  Percentage\n",
      "0         Junior College  31106       41.48\n",
      "1               Bachelor  26441       35.26\n",
      "2  No Education Required   9140       12.19\n",
      "3  High School and below   4127        5.50\n",
      "4                 Master   3574        4.77\n",
      "5    Technical Secondary    517        0.69\n",
      "6                 Doctor     78        0.10\n"
     ]
    }
   ],
   "source": [
    "# Calculate value counts and percentages\n",
    "edu_count = df['eduBack_en'].value_counts()\n",
    "edu_percentages = round((edu_count / edu_count.sum()) * 100,2)\n",
    "\n",
    "edu_summary = pd.DataFrame({'Count': edu_count, 'Percentage': edu_percentages})\n",
    "edu_summary.reset_index(inplace=True)\n",
    "edu_summary.columns = ['eduBack_en', 'Count', 'Percentage']\n",
    "\n",
    "print(edu_summary)"
   ]
  },
  {
   "cell_type": "code",
   "execution_count": 44,
   "metadata": {},
   "outputs": [],
   "source": [
    "df['scale'] = df['scale'].str.replace('人', '')\n",
    "df['scale'] = df['scale'].str.replace('以上', '+')\n",
    "df['scale'] = df['scale'].str.replace('以下', '-')\n",
    "# Fill empty or blank values with a default code of 7\n",
    "df['scale'] = df['scale'].fillna('other')\n",
    "\n",
    "# Map education requirements to corresponding codes\n",
    "scale_map = {\n",
    "    '20-': 0,\n",
    "    '20-99': 1,\n",
    "    '100-299': 2,\n",
    "    '300-499': 3,\n",
    "    '500-999': 4,\n",
    "    '1000-9999': 5,\n",
    "    '10000+': 6,\n",
    "    'other': 7\n",
    "}\n",
    "\n",
    "df['scale_code'] = df['scale'].map(scale_map)"
   ]
  },
  {
   "cell_type": "code",
   "execution_count": 45,
   "metadata": {},
   "outputs": [],
   "source": [
    "scale_id = {\n",
    "    0:'Less than 20',\n",
    "    1:'20-99',\n",
    "    2:'100-299',\n",
    "    3:'300-499',\n",
    "    4:'500-999',\n",
    "    5:'1000-9999',\n",
    "    6:'Over 10000',\n",
    "    7: 'Other'\n",
    "}\n",
    "df['scale_en'] = df['scale_code'].map(scale_id)"
   ]
  },
  {
   "cell_type": "code",
   "execution_count": 46,
   "metadata": {},
   "outputs": [
    {
     "name": "stdout",
     "output_type": "stream",
     "text": [
      "       scale  Count  Percentage\n",
      "0  1000-9999  19303       25.74\n",
      "1     10000+  17997       24.00\n",
      "2    100-299  12404       16.54\n",
      "3      20-99  11951       15.94\n",
      "4    500-999   7242        9.66\n",
      "5    300-499   3093        4.12\n",
      "6        20-   2164        2.89\n",
      "7      other    829        1.11\n"
     ]
    }
   ],
   "source": [
    "# Calculate value counts and percentages\n",
    "sca_count = df['scale'].value_counts()\n",
    "sca_percentages = round((sca_count / sca_count.sum()) * 100,2)\n",
    "\n",
    "sca_summary = pd.DataFrame({'Count': sca_count, 'Percentage': sca_percentages})\n",
    "sca_summary.reset_index(inplace=True)\n",
    "sca_summary.columns = ['scale', 'Count', 'Percentage']\n",
    "\n",
    "print(sca_summary)"
   ]
  },
  {
   "cell_type": "code",
   "execution_count": 47,
   "metadata": {},
   "outputs": [],
   "source": [
    "df['experience'] = df['experience'].str.replace('年', 'year')\n",
    "df['experience'] = df['experience'].str.replace('以上', '+')\n",
    "df['experience'] = df['experience'].str.replace('以下', '-')\n",
    "df['experience'] = df['experience'].replace(['无经验','不限'], 'No Work Experience Required')\n",
    "\n",
    "exp_map = {\n",
    "    '1year-': 0,\n",
    "    '1-3year': 1,\n",
    "    '3-5year': 2,\n",
    "    '5-10year': 3,\n",
    "    '10year+': 4,\n",
    "    'No Work Experience Required': 5\n",
    "}\n",
    "\n",
    "df['exp_code'] = df['experience'].map(exp_map)"
   ]
  },
  {
   "cell_type": "code",
   "execution_count": 48,
   "metadata": {},
   "outputs": [],
   "source": [
    "exp_id = {\n",
    "    0:'Less than 1 year',\n",
    "    1:'1-3 years',\n",
    "    2:'3-5 years',\n",
    "    3:'5-10 years',\n",
    "    4:'Over 10 years',\n",
    "    5:'No Work Experience Required'\n",
    "}\n",
    "df['exp_en'] = df['exp_code'].map(exp_id)"
   ]
  },
  {
   "cell_type": "code",
   "execution_count": 49,
   "metadata": {},
   "outputs": [
    {
     "name": "stdout",
     "output_type": "stream",
     "text": [
      "                        exp_en  Count  Percentage\n",
      "0  No Work Experience Required  38375       51.18\n",
      "1                    1-3 years  20809       27.75\n",
      "2                    3-5 years   9609       12.81\n",
      "3                   5-10 years   4179        5.57\n",
      "4             Less than 1 year   1564        2.09\n",
      "5                Over 10 years    447        0.60\n"
     ]
    }
   ],
   "source": [
    "# Calculate value counts and percentages\n",
    "exp_count = df['exp_en'].value_counts()\n",
    "exp_percentages = round((exp_count / exp_count.sum()) * 100,2)\n",
    "\n",
    "exp_summary = pd.DataFrame({'Count': exp_count, 'Percentage': exp_percentages})\n",
    "exp_summary.reset_index(inplace=True)\n",
    "exp_summary.columns = ['exp_en', 'Count', 'Percentage']\n",
    "\n",
    "print(exp_summary)"
   ]
  },
  {
   "cell_type": "code",
   "execution_count": 50,
   "metadata": {},
   "outputs": [],
   "source": [
    "df = df[~df['salary'].isin(['面议']) & \n",
    "        ~df['salary'].str.contains('天') &\n",
    "        ~df['salary'].str.contains('时') &\n",
    "        ~df['salary'].str.contains('次') &\n",
    "        ~df['salary'].str.contains('下')]"
   ]
  },
  {
   "cell_type": "code",
   "execution_count": 51,
   "metadata": {},
   "outputs": [],
   "source": [
    "def bottom_top(x,num=0):\n",
    "    \"\"\"Clean up each row of payroll data to unify the payroll \n",
    "    in thousands. Split into two columns and return the specified \n",
    "    column with num=0 for the lowest column and num=1 \n",
    "    for the highest column.\"\"\"\n",
    "    if x == '面议' or x.find('天') != -1 or x.find('时') != -1 or x.find('次') != -1 or x.find('下') != -1:\n",
    "        return np.nan\n",
    "    elif x.find('/月') != -1:\n",
    "        x = x.replace('/月', '')\n",
    "    elif x.endswith('元/月'):\n",
    "        x = float(x[:-3])/1000\n",
    "    if len(x.split('-')) >1:\n",
    "        x = x.split('-')[num]\n",
    "        if x.find('千') != -1:\n",
    "            x=float(x[0:x.find('千')])\n",
    "        elif x.find('万') != -1:\n",
    "            x=float(x[0:x.find('万')])*10\n",
    "        elif x.find('') != -1:\n",
    "            x=0\n",
    "        return x\n",
    "\n",
    "\n",
    "df=df.drop(index = df[df['salary'] == 0].index )\n",
    "df['bottom'] = df.salary.apply(lambda x : bottom_top(x,0))\n",
    "df['top'] = df.salary.apply(lambda x : bottom_top(x,1))\n",
    "df['avg'] = (df['bottom']+df['top'])/2\n",
    "df['avg_w'] =df['avg']/10"
   ]
  },
  {
   "cell_type": "code",
   "execution_count": 52,
   "metadata": {},
   "outputs": [],
   "source": [
    "#Add a new column salary_label to classify the average salary into six categories: <5k,5k-1w,1w-1w5,1w5-2w,2w-5w,>5w.\n",
    "df['salary_label'] = pd.cut(df.avg, bins=[0, 5, 10, 15,20, 50, max(df.avg)], labels=['<5000', '5000-10000', '10000-15000','15000-20000', '20000-50000', '>50000'])"
   ]
  },
  {
   "cell_type": "code",
   "execution_count": 53,
   "metadata": {},
   "outputs": [
    {
     "name": "stdout",
     "output_type": "stream",
     "text": [
      "        sal_en  Count  Percentage\n",
      "0  10000-15000  24385       34.31\n",
      "1   5000-10000  19861       27.95\n",
      "2  20000-50000  12741       17.93\n",
      "3  15000-20000  11416       16.06\n",
      "4        <5000   2025        2.85\n",
      "5       >50000    638        0.90\n"
     ]
    }
   ],
   "source": [
    "# Calculate value counts and percentages\n",
    "sal_count = df['salary_label'].value_counts()\n",
    "sal_percentages = round((sal_count / sal_count.sum()) * 100,2)\n",
    "\n",
    "sal_summary = pd.DataFrame({'Count': sal_count, 'Percentage': sal_percentages})\n",
    "sal_summary.reset_index(inplace=True)\n",
    "sal_summary.columns = ['sal_en', 'Count', 'Percentage']\n",
    "\n",
    "print(sal_summary)"
   ]
  },
  {
   "cell_type": "code",
   "execution_count": 54,
   "metadata": {},
   "outputs": [],
   "source": [
    "unique_company_types = df['companyType'].unique()\n",
    "co_map={'民营':'Private', '上市公司':'Public Company', '股份制企业':'Joint-Stock enterprise', '国企':'State-Owned Enterprise', '合资':'Joint Venture', '外商独资':'Wholly Foreign-Owned', '其他':'Other', '事业单位':'Public Institution','银行':'Bank'}\n",
    "df['Comp_en']=df['companyType'].map(co_map)"
   ]
  },
  {
   "cell_type": "code",
   "execution_count": 55,
   "metadata": {},
   "outputs": [],
   "source": [
    "keywords = ['投资经理','风控','催收','银行柜员',\n",
    "                '银行销售','信审','信用卡','贷款',\n",
    "                '金融产品','汽车金融','金融研究',\n",
    "                '证券','交易员','期货',\n",
    "                '操盘手','基金','股票','投资顾问',\n",
    "                '信托','典当','担保','信贷','权证',\n",
    "                '财产保险','保险内勤','理赔','精算师',\n",
    "                '保险销售','理财顾问','查勘定损','车险']\n",
    "\n",
    "df['keywords'] = df['name'].apply(lambda x: [keyword for keyword in keywords if keyword.lower() in x.lower()])\n"
   ]
  },
  {
   "cell_type": "code",
   "execution_count": 56,
   "metadata": {},
   "outputs": [],
   "source": [
    "def classify_industry(row):\n",
    "    keywords = row['keywords']\n",
    "    if any(keyword in keywords for keyword in [\"投资经理\", \"金融研究\", \"证券\", \"交易员\", \"期货\", \"操盘手\", \"基金\", \"股票\", \"投资顾问\",\"金融产品\",\"信托\",\"权证\"]):\n",
    "        return \"Investment\"\n",
    "    elif any(keyword in keywords for keyword in [\"银行柜员\", \"银行销售\", \"贷款\",\"风控\",\"信审\", \"信用卡\", \"担保\", \"信贷\",\"查勘定损\",\"催收\"]):\n",
    "        return \"Banking\"\n",
    "    elif any(keyword in keywords for keyword in [\"财产保险\", \"保险内勤\", \"理赔\", \"精算师\", \"保险销售\", \"理财顾问\",'查勘定损','车险']):\n",
    "        return \"Insurance\"\n",
    "    else:\n",
    "        return \"Other\"\n",
    "\n",
    "\n",
    "df['industry_category'] = df.apply(classify_industry, axis=1)"
   ]
  },
  {
   "cell_type": "code",
   "execution_count": 57,
   "metadata": {},
   "outputs": [
    {
     "name": "stdout",
     "output_type": "stream",
     "text": [
      "       cat_en  Count  Percentage\n",
      "0       Other  55527       78.12\n",
      "1  Investment   6468        9.10\n",
      "2     Banking   5421        7.63\n",
      "3   Insurance   3662        5.15\n"
     ]
    }
   ],
   "source": [
    "# Calculate value counts and percentages\n",
    "cat_count = df['industry_category'].value_counts()\n",
    "cat_percentages = round((cat_count / cat_count.sum()) * 100,2)\n",
    "\n",
    "cat_summary = pd.DataFrame({'Count': cat_count, 'Percentage': cat_percentages})\n",
    "cat_summary.reset_index(inplace=True)\n",
    "cat_summary.columns = ['cat_en', 'Count', 'Percentage']\n",
    "\n",
    "print(cat_summary)"
   ]
  },
  {
   "cell_type": "code",
   "execution_count": 58,
   "metadata": {},
   "outputs": [],
   "source": [
    "# Save the cleaned data frame as a new CSV file\n",
    "df.to_csv('Finance_cleaned_file.csv', index=False)"
   ]
  }
 ],
 "metadata": {
  "kernelspec": {
   "display_name": "myenv",
   "language": "python",
   "name": "python3"
  },
  "language_info": {
   "codemirror_mode": {
    "name": "ipython",
    "version": 3
   },
   "file_extension": ".py",
   "mimetype": "text/x-python",
   "name": "python",
   "nbconvert_exporter": "python",
   "pygments_lexer": "ipython3",
   "version": "3.9.7"
  },
  "orig_nbformat": 4,
  "vscode": {
   "interpreter": {
    "hash": "fb82dc29044bfa99b3ba96d59ee410d1eeed3eae759850ec729a5557bf49fce8"
   }
  }
 },
 "nbformat": 4,
 "nbformat_minor": 2
}
