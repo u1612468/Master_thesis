{
 "cells": [
  {
   "cell_type": "code",
   "execution_count": 15,
   "metadata": {},
   "outputs": [],
   "source": [
    "import pandas as pd\n",
    "import numpy as np"
   ]
  },
  {
   "cell_type": "code",
   "execution_count": 16,
   "metadata": {},
   "outputs": [
    {
     "name": "stdout",
     "output_type": "stream",
     "text": [
      "Summary statistics:\n",
      "             name   salary             company address experience eduBack  \\\n",
      "count      107052   107052              107052  107052     107052  107052   \n",
      "unique      52109      678               27403      72          7      11   \n",
      "top     Java开发工程师  1万-1.5万  软通动力信息技术(集团)股份有限公司   上海-浦东       1-3年      本科   \n",
      "freq         2030     5795                1233    6252      34903   53379   \n",
      "\n",
      "       companyType   scale    info  \n",
      "count       103395  106294  107052  \n",
      "unique          16       7   78085  \n",
      "top             民营  20-99人      []  \n",
      "freq         60415   26582     474  \n",
      "<class 'pandas.core.frame.DataFrame'>\n",
      "Int64Index: 107052 entries, 0 to 154235\n",
      "Data columns (total 9 columns):\n",
      " #   Column       Non-Null Count   Dtype \n",
      "---  ------       --------------   ----- \n",
      " 0   name         107052 non-null  object\n",
      " 1   salary       107052 non-null  object\n",
      " 2   company      107052 non-null  object\n",
      " 3   address      107052 non-null  object\n",
      " 4   experience   107052 non-null  object\n",
      " 5   eduBack      107052 non-null  object\n",
      " 6   companyType  103395 non-null  object\n",
      " 7   scale        106294 non-null  object\n",
      " 8   info         107052 non-null  object\n",
      "dtypes: object(9)\n",
      "memory usage: 8.2+ MB\n",
      "None\n"
     ]
    }
   ],
   "source": [
    "# Read a CSV file and convert it to a data frame\n",
    "df = pd.read_csv('Internet_all.csv')\n",
    "\n",
    "# Find all rows that are exactly the same\n",
    "duplicated_rows = df.duplicated()\n",
    "\n",
    "# Remove all duplicated rows\n",
    "df = df.drop_duplicates()\n",
    "\n",
    "# Delete rows with empty name columns\n",
    "df = df.dropna(subset=['name'])\n",
    "\n",
    "# Show basic statistics for each column in the data box\n",
    "print(df.describe())\n",
    "print(df.info())"
   ]
  },
  {
   "cell_type": "code",
   "execution_count": 17,
   "metadata": {},
   "outputs": [],
   "source": [
    "# Define a function that determines the city name and city id based on the value in the address column\n",
    "def get_city_info(address):\n",
    "    city_id = None\n",
    "    city_name = None\n",
    "    if '北京' in address:\n",
    "        city_id = 530\n",
    "        city_name = '北京'\n",
    "    elif '上海' in address:\n",
    "        city_id = 538\n",
    "        city_name = '上海'\n",
    "    elif '广州' in address:\n",
    "        city_id = 763\n",
    "        city_name = '广州'\n",
    "    elif '深圳' in address:\n",
    "        city_id = 765\n",
    "        city_name = '深圳'\n",
    "    elif '杭州' in address:\n",
    "        city_id = 653\n",
    "        city_name = '杭州'\n",
    "    return pd.Series({'city_id': city_id, 'city_name': city_name})\n",
    "\n",
    "# Add city_name and city_id to the data frame using the apply() function and a lambda expression\n",
    "df[['city_id', 'city_name']] = df['address'].apply(lambda x: get_city_info(x))"
   ]
  },
  {
   "cell_type": "code",
   "execution_count": 18,
   "metadata": {},
   "outputs": [],
   "source": [
    "df = df.dropna(subset=['city_id'])\n",
    "df['city_id'] = df['city_id'].astype(int)\n"
   ]
  },
  {
   "cell_type": "code",
   "execution_count": 19,
   "metadata": {},
   "outputs": [],
   "source": [
    "# Combine similar education levels\n",
    "df['eduBack'] = df['eduBack'].replace(['EMBA', 'MBA/EMBA', '硕士'], '硕士')\n",
    "df['eduBack'] = df['eduBack'].replace(['大专','专科'], '大专')\n",
    "df['eduBack'] = df['eduBack'].replace(['中专/中技', '中技'], '中专')\n",
    "df['eduBack'] = df['eduBack'].replace(['高中','初中及以下'], '高中及以下')\n",
    "\n",
    "# Map education requirements to corresponding codes\n",
    "edu_map = {\n",
    "    '学历不限': 0,\n",
    "    '高中及以下':1,\n",
    "    '中专':2,\n",
    "    '大专':3,\n",
    "    '本科': 4,\n",
    "    '硕士': 5,\n",
    "    '博士': 6\n",
    "}\n",
    "\n",
    "df['eduBack_code'] = df['eduBack'].map(edu_map)"
   ]
  },
  {
   "cell_type": "code",
   "execution_count": 20,
   "metadata": {},
   "outputs": [],
   "source": [
    "edu_en = {\n",
    "    '学历不限': 'No Eduction Required',\n",
    "    '高中及以下':'High School and below',\n",
    "    '中专': 'Technical Secondary',\n",
    "    '大专': 'Junior College',\n",
    "    '本科': 'Bachelor',\n",
    "    '硕士': 'Master',\n",
    "    '博士': 'Doctor'\n",
    "}\n",
    "df['eduBack_en'] = df['eduBack'].map(edu_en)\n",
    "city_en = {530: 'Beijing', 538: 'Shanghai', 763: 'Guangzhou', 765: 'Shenzhen', 653: 'Hangzhou'}\n",
    "df['city_en'] = df['city_id'].map(city_en)"
   ]
  },
  {
   "cell_type": "code",
   "execution_count": 21,
   "metadata": {},
   "outputs": [],
   "source": [
    "df['scale'] = df['scale'].str.replace('人', '')\n",
    "df['scale'] = df['scale'].str.replace('以上', '+')\n",
    "df['scale'] = df['scale'].str.replace('以下', '-')\n",
    "\n",
    "# Fill empty or blank values with a default code of 7\n",
    "df['scale'] = df['scale'].fillna('other')\n",
    "\n",
    "# Map education requirements to corresponding codes\n",
    "scale_map = {\n",
    "    '20-': 0,\n",
    "    '20-99': 1,\n",
    "    '100-299': 2,\n",
    "    '300-499': 3,\n",
    "    '500-999': 4,\n",
    "    '1000-9999': 5,\n",
    "    '10000+': 6,\n",
    "    'other': 7\n",
    "}\n",
    "\n",
    "df['scale_code'] = df['scale'].map(scale_map)"
   ]
  },
  {
   "cell_type": "code",
   "execution_count": 22,
   "metadata": {},
   "outputs": [],
   "source": [
    "scale_id = {\n",
    "    0:'Less than 20',\n",
    "    1:'20-99',\n",
    "    2:'100-299',\n",
    "    3:'300-499',\n",
    "    4:'500-999',\n",
    "    5:'1000-9999',\n",
    "    6:'Over 10000',\n",
    "    7: 'Other'\n",
    "}\n",
    "df['scale_en'] = df['scale_code'].map(scale_id)"
   ]
  },
  {
   "cell_type": "code",
   "execution_count": 24,
   "metadata": {},
   "outputs": [
    {
     "name": "stdout",
     "output_type": "stream",
     "text": [
      "1    34903\n",
      "5    29206\n",
      "2    29021\n",
      "3    11508\n",
      "0     1700\n",
      "4      714\n",
      "Name: exp_code, dtype: int64\n",
      "<bound method NDFrame.describe of 1-3year                        34903\n",
      "No Work Experience Required    29206\n",
      "3-5year                        29021\n",
      "5-10year                       11508\n",
      "1year-                          1700\n",
      "10year+                          714\n",
      "Name: experience, dtype: int64>\n"
     ]
    }
   ],
   "source": [
    "df['experience'] = df['experience'].str.replace('年', 'year')\n",
    "df['experience'] = df['experience'].str.replace('以上', '+')\n",
    "df['experience'] = df['experience'].str.replace('以下', '-')\n",
    "df['experience'] = df['experience'].replace(['无经验','不限'], 'No Work Experience Required')\n",
    "\n",
    "exp_map = {\n",
    "    '1year-': 0,\n",
    "    '1-3year': 1,\n",
    "    '3-5year': 2,\n",
    "    '5-10year': 3,\n",
    "    '10year+': 4,\n",
    "    'No Work Experience Required': 5\n",
    "}\n",
    "\n",
    "df['exp_code'] = df['experience'].map(exp_map)\n",
    "print(df['exp_code'].value_counts())\n",
    "print(df['experience'].value_counts().describe)"
   ]
  },
  {
   "cell_type": "code",
   "execution_count": 25,
   "metadata": {},
   "outputs": [],
   "source": [
    "exp_id = {\n",
    "    0:'Less than 1 year',\n",
    "    1:'1-3 years',\n",
    "    2:'3-5 years',\n",
    "    3:'5-10 years',\n",
    "    4:'Over 10 years',\n",
    "    5:'No Work Experience Required'\n",
    "}\n",
    "df['exp_en'] = df['exp_code'].map(exp_id)"
   ]
  },
  {
   "cell_type": "code",
   "execution_count": 26,
   "metadata": {},
   "outputs": [],
   "source": [
    "df = df[~df['salary'].isin(['面议']) & \n",
    "        ~df['salary'].str.contains('天') &\n",
    "        ~df['salary'].str.contains('时') &\n",
    "        ~df['salary'].str.contains('次') &\n",
    "        ~df['salary'].str.contains('下')]"
   ]
  },
  {
   "cell_type": "code",
   "execution_count": 27,
   "metadata": {},
   "outputs": [
    {
     "name": "stdout",
     "output_type": "stream",
     "text": [
      "<class 'pandas.core.frame.DataFrame'>\n",
      "Int64Index: 102938 entries, 0 to 154235\n",
      "Data columns (total 18 columns):\n",
      " #   Column        Non-Null Count   Dtype \n",
      "---  ------        --------------   ----- \n",
      " 0   name          102938 non-null  object\n",
      " 1   salary        102938 non-null  object\n",
      " 2   company       102938 non-null  object\n",
      " 3   address       102938 non-null  object\n",
      " 4   experience    102938 non-null  object\n",
      " 5   eduBack       102938 non-null  object\n",
      " 6   companyType   99373 non-null   object\n",
      " 7   scale         102938 non-null  object\n",
      " 8   info          102938 non-null  object\n",
      " 9   city_id       102938 non-null  int64 \n",
      " 10  city_name     102938 non-null  object\n",
      " 11  eduBack_code  102938 non-null  int64 \n",
      " 12  eduBack_en    102938 non-null  object\n",
      " 13  city_en       102938 non-null  object\n",
      " 14  scale_code    102938 non-null  int64 \n",
      " 15  scale_en      102938 non-null  object\n",
      " 16  exp_code      102938 non-null  int64 \n",
      " 17  exp_en        102938 non-null  object\n",
      "dtypes: int64(4), object(14)\n",
      "memory usage: 14.9+ MB\n",
      "None\n",
      "                                       name     salary        company address  \\\n",
      "0                                 Java开发工程师  1.5万-2.2万     上海马帮科技有限公司   上海-闵行   \n",
      "1                                 Java开发工程师    1.5万-2万     上海马帮科技有限公司   上海-闵行   \n",
      "2                               高级Java开发工程师  1.5万-2.8万  北京思诺博信息技术有限公司   上海-长宁   \n",
      "3  1人保科技-研发中心-科技类1-后端开发工程师- 2023届校招(J55040)  1.5万-2.5万     人保信息科技有限公司   上海-松江   \n",
      "4                                JAVA开发(蔚来）  1.8万-2.4万           法本信息   上海-闵行   \n",
      "\n",
      "                    experience eduBack companyType      scale  \\\n",
      "0                      3-5year      本科          民营    500-999   \n",
      "1                      3-5year      本科          民营    500-999   \n",
      "2                     5-10year      本科          合资    500-999   \n",
      "3  No Work Experience Required      硕士          国企    500-999   \n",
      "4                     5-10year      本科        上市公司  1000-9999   \n",
      "\n",
      "                                                info  city_id city_name  \\\n",
      "0                                ['后端开发', '中级软件工程师']      538        上海   \n",
      "1  ['SpringBoot', 'SpringCloud', 'Mybatis', 'Elas...      538        上海   \n",
      "2  ['Java', 'Oracle', 'MySQL', 'SpringBoot', 'Spr...      538        上海   \n",
      "3  ['后端开发', 'Java', 'Python', 'HTML5', 'MySQL', '...      538        上海   \n",
      "4                                           ['后端开发']      538        上海   \n",
      "\n",
      "   eduBack_code eduBack_en   city_en  scale_code   scale_en  exp_code  \\\n",
      "0             4   Bachelor  Shanghai           4    500-999         2   \n",
      "1             4   Bachelor  Shanghai           4    500-999         2   \n",
      "2             4   Bachelor  Shanghai           4    500-999         3   \n",
      "3             5     Master  Shanghai           4    500-999         5   \n",
      "4             4   Bachelor  Shanghai           5  1000-9999         3   \n",
      "\n",
      "                        exp_en  \n",
      "0                    3-5 years  \n",
      "1                    3-5 years  \n",
      "2                   5-10 years  \n",
      "3  No Work Experience Required  \n",
      "4                   5-10 years  \n",
      "Shape: (102938, 18)\n"
     ]
    }
   ],
   "source": [
    "print(df.info())\n",
    "print(df.head())\n",
    "print('Shape:', df.shape)"
   ]
  },
  {
   "cell_type": "code",
   "execution_count": 28,
   "metadata": {},
   "outputs": [],
   "source": [
    "def bottom_top(x,num=0):\n",
    "    \"\"\"Clean up each row of payroll data to unify the payroll \n",
    "    in thousands. Split into two columns and return the specified \n",
    "    column with num=0 for the lowest column and num=1 \n",
    "    for the highest column.\"\"\"\n",
    "    if x == '面议' or x.find('天') != -1 or x.find('时') != -1 or x.find('次') != -1 or x.find('下') != -1:\n",
    "        return np.nan\n",
    "    elif x.find('/月') != -1:\n",
    "        x = x.replace('/月', '')\n",
    "    elif x.endswith('元/月'):\n",
    "        x = float(x[:-3]) / 1000\n",
    "    if len(x.split('-')) >1:\n",
    "        x = x.split('-')[num]\n",
    "        if x.find('千') != -1:\n",
    "            x=float(x[0:x.find('千')])\n",
    "        elif x.find('万') != -1:\n",
    "            x=float(x[0:x.find('万')])*10\n",
    "        elif x.find('') != -1:\n",
    "            x=0\n",
    "        return x\n",
    "\n",
    "df=df.drop(index = df[df['salary'] == 0].index )\n",
    "df['bottom'] = df.salary.apply(lambda x : bottom_top(x,0))\n",
    "df['top'] = df.salary.apply(lambda x : bottom_top(x,1))\n",
    "df['avg'] = (df['bottom']+df['top'])/2\n",
    "df['avg_w'] =df['avg']/10"
   ]
  },
  {
   "cell_type": "code",
   "execution_count": 29,
   "metadata": {},
   "outputs": [
    {
     "name": "stdout",
     "output_type": "stream",
     "text": [
      "5000-10000     31984\n",
      "10000-15000    31378\n",
      "15000-20000    19276\n",
      "20000-50000    17291\n",
      "<5000           2421\n",
      ">50000           540\n",
      "Name: salary_label, dtype: int64\n"
     ]
    }
   ],
   "source": [
    "#Add a new column salary_label to classify the average salary into six categories: <5k,5k-1w,1w-1w5,1w5-2w,2w-5w,>5w.\n",
    "df['salary_label'] = pd.cut(df.avg, bins=[0, 5, 10, 15,20, 50, max(df.avg)], labels=['<5000', '5000-10000', '10000-15000','15000-20000', '20000-50000', '>50000'])\n",
    "\n",
    "print(df.salary_label.value_counts()) "
   ]
  },
  {
   "cell_type": "code",
   "execution_count": 32,
   "metadata": {},
   "outputs": [],
   "source": [
    "unique_company_types = df['companyType'].unique()\n",
    "co_map={'民营':'Private', '上市公司':'Public Company', '股份制企业':'Joint-Stock enterprise', '国企':'State-Owned Enterprise', '合资':'Joint Venture', '外商独资':'Wholly Foreign-Owned', '其他':'Other', '事业单位':'Public Institution','银行':'Bank'}\n",
    "df['Comp_en']=df['companyType'].map(co_map)\n"
   ]
  },
  {
   "cell_type": "code",
   "execution_count": 33,
   "metadata": {},
   "outputs": [],
   "source": [
    "keywords = ['Java开发', 'UI设计师', 'Web前端', 'PHP', 'Python', 'Android', '美工', '深度学习', '算法工程师',\n",
    "            'Hadoop', 'Node.js', '数据开发', '数据分析师', '数据架构', '人工智能', '区块链', '电气工程师',\n",
    "            '电子工程师', 'PLC测试工程师', '设备工程师', '硬件工程师', '结构工程师', '工艺工程师', '产品经理',\n",
    "            '新媒体运营', '运营专员', '淘宝运营', '天猫运营', '产品助理', '产品运营', '淘宝客服', '游戏运营',\n",
    "            '编辑','开发','java','android','AI','数据','运营','产品',\n",
    "            'ui','设计','客服','销售','平面','修图','制作','创意','前端','Web','软件','架构','RPA',\n",
    "            '编程','Data','爬虫','算法','建模','系统','安卓','修图','美术','自然语言','NLP',\n",
    "            '机器','工程','react','C++','硬件','分析师','软件',\"C\"]\n",
    "\n",
    "df['keywords'] = df['name'].apply(lambda x: [keyword for keyword in keywords if keyword.lower() in x.lower()])\n"
   ]
  },
  {
   "cell_type": "code",
   "execution_count": 34,
   "metadata": {},
   "outputs": [],
   "source": [
    "# Create classification functions for Internet jobs\n",
    "def classify_industry(row):\n",
    "    keywords = row['keywords']\n",
    "    if any(keyword in keywords for keyword in ['Java开发', 'PHP', 'Python', 'Android', 'Node.js', 'Hadoop', 'react', 'C++', '编程', '开发', 'java', \"C\",'python', 'hadoop', 'node.js', 'android', 'react', 'C++', '编程', '系统', '安卓', '软件','AI','人工智能','区块链','深度学习','算法工程师','算法','RPA','Web','Web前端','前端','后端','编程','开发']):\n",
    "        return 'Development'\n",
    "    elif any(keyword in keywords for keyword in ['电气工程师', '电子工程师', 'PLC测试工程师', '设备工程师', '硬件工程师', '结构工程师', '工艺工程师', '机器', '工程', '硬件']):\n",
    "        return 'Engineering'\n",
    "    elif any(keyword in keywords for keyword in ['新媒体运营', '运营专员', '淘宝运营', '天猫运营', '淘宝客服', '游戏运营', '运营','客服','销售']):\n",
    "        return 'Operations'\n",
    "    elif any(keyword in keywords for keyword in ['产品经理', '产品助理', '产品运营','产品','分析师']):\n",
    "        return 'Product'\n",
    "    elif any(keyword in keywords for keyword in ['UI设计师', '美工','ui','设计','平面','修图','制作','创意','修图','美术']):\n",
    "        return 'Design'\n",
    "    elif any(keyword in keywords for keyword in ['数据开发', '数据分析师', '数据架构', '爬虫', '建模', '自然语言', '自然语言','NLP', 'Data', '数据']):\n",
    "        return 'Data'\n",
    "    else:\n",
    "        return 'Other'\n",
    "\n",
    "# Apply the classification function to create a new categorized field\n",
    "df['industry_category'] = df.apply(classify_industry, axis=1)\n"
   ]
  },
  {
   "cell_type": "code",
   "execution_count": 37,
   "metadata": {},
   "outputs": [
    {
     "name": "stdout",
     "output_type": "stream",
     "text": [
      "Operations     25.72\n",
      "Engineering    24.91\n",
      "Development    23.54\n",
      "Other          11.96\n",
      "Product         6.63\n",
      "Design          6.12\n",
      "Data            1.12\n",
      "Name: industry_category, dtype: float64\n"
     ]
    }
   ],
   "source": [
    "# Calculate the percentage for each job category in Internet Industry\n",
    "category_counts = df['industry_category'].value_counts()\n",
    "category_percentages = round(category_counts / len(df) * 100,2)\n",
    "print(category_percentages)"
   ]
  },
  {
   "cell_type": "code",
   "execution_count": 35,
   "metadata": {},
   "outputs": [
    {
     "name": "stdout",
     "output_type": "stream",
     "text": [
      "<class 'pandas.core.frame.DataFrame'>\n",
      "Int64Index: 102938 entries, 0 to 154235\n",
      "Data columns (total 26 columns):\n",
      " #   Column             Non-Null Count   Dtype   \n",
      "---  ------             --------------   -----   \n",
      " 0   name               102938 non-null  object  \n",
      " 1   salary             102938 non-null  object  \n",
      " 2   company            102938 non-null  object  \n",
      " 3   address            102938 non-null  object  \n",
      " 4   experience         102938 non-null  object  \n",
      " 5   eduBack            102938 non-null  object  \n",
      " 6   companyType        99373 non-null   object  \n",
      " 7   scale              102938 non-null  object  \n",
      " 8   info               102938 non-null  object  \n",
      " 9   city_id            102938 non-null  int64   \n",
      " 10  city_name          102938 non-null  object  \n",
      " 11  eduBack_code       102938 non-null  int64   \n",
      " 12  eduBack_en         102938 non-null  object  \n",
      " 13  city_en            102938 non-null  object  \n",
      " 14  scale_code         102938 non-null  int64   \n",
      " 15  scale_en           102938 non-null  object  \n",
      " 16  exp_code           102938 non-null  int64   \n",
      " 17  exp_en             102938 non-null  object  \n",
      " 18  bottom             102928 non-null  float64 \n",
      " 19  top                102928 non-null  float64 \n",
      " 20  avg                102928 non-null  float64 \n",
      " 21  avg_w              102928 non-null  float64 \n",
      " 22  salary_label       102890 non-null  category\n",
      " 23  Comp_en            95841 non-null   object  \n",
      " 24  keywords           102938 non-null  object  \n",
      " 25  industry_category  102938 non-null  object  \n",
      "dtypes: category(1), float64(4), int64(4), object(17)\n",
      "memory usage: 20.5+ MB\n",
      "None\n"
     ]
    }
   ],
   "source": [
    "print(df.info())\n",
    "# Save the cleaned data frame as a new CSV file\n",
    "df.to_csv('Internet_cleaned_file.csv', index=False)\n"
   ]
  },
  {
   "attachments": {},
   "cell_type": "markdown",
   "metadata": {},
   "source": [
    "\\begin{table}[h]\n",
    "\\centering\n",
    "\\begin{tabular}{|c|c|c|c|c|}\n",
    "\\hline\n",
    "\\textbf{job type} & \\textbf{technical} & \\textbf{design} & \\textbf{product} & \\textbf{operations} \\\\\\\n",
    "\\hline\n",
    "\\textbf{Support} & 0.5052 & 0.0612 & 0.0590 & 0.1702 \\\\\\\n",
    "\\hline\n",
    "\\end{tabular}\n",
    "\\caption{support for job classification}\n",
    "\\label{tab:support-job-categories}\n",
    "\\end{table}"
   ]
  },
  {
   "attachments": {},
   "cell_type": "markdown",
   "metadata": {},
   "source": [
    "keywords = ['Java开发', 'UI设计师', 'Web前端', 'PHP', 'Python', 'Android', '美工', '深度学习', '算法工程师',\n",
    "            'Hadoop', 'Node.js', '数据开发', '数据分析师', '数据架构', '人工智能', '区块链', '电气工程师',\n",
    "            '电子工程师', 'PLC测试工程师', '设备工程师', '硬件工程师', '结构工程师', '工艺工程师', '产品经理',\n",
    "            '新媒体运营', '运营专员', '淘宝运营', '天猫运营', '产品助理', '产品运营', '淘宝客服', '游戏运营',\n",
    "            '编辑','开发','java','python','hadoop','node.js','android','ai','AI','数据','运营','产品',\n",
    "            'ui','设计','客服','销售','平面','修图','平面','制作','创意','前端','Web','软件','架构','RPA',\n",
    "            '编程','Data','爬虫','算法','建模','系统','安卓','PPT','修图','美术','自然语言','NLP','nlp',\n",
    "            '机器','工程','react','C++','硬件','分析师','软件']\n"
   ]
  }
 ],
 "metadata": {
  "kernelspec": {
   "display_name": "myenv",
   "language": "python",
   "name": "python3"
  },
  "language_info": {
   "codemirror_mode": {
    "name": "ipython",
    "version": 3
   },
   "file_extension": ".py",
   "mimetype": "text/x-python",
   "name": "python",
   "nbconvert_exporter": "python",
   "pygments_lexer": "ipython3",
   "version": "3.8.8"
  },
  "orig_nbformat": 4,
  "vscode": {
   "interpreter": {
    "hash": "fb82dc29044bfa99b3ba96d59ee410d1eeed3eae759850ec729a5557bf49fce8"
   }
  }
 },
 "nbformat": 4,
 "nbformat_minor": 2
}
